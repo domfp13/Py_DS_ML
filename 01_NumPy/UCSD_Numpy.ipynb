{
 "cells": [
  {
   "cell_type": "markdown",
   "metadata": {},
   "source": [
    "# Numpy\n",
    "This are the topics coverd in this version of the course"
   ]
  },
  {
   "cell_type": "code",
   "execution_count": 1,
   "metadata": {},
   "outputs": [],
   "source": [
    "import numpy as np"
   ]
  },
  {
   "cell_type": "code",
   "execution_count": 2,
   "metadata": {},
   "outputs": [],
   "source": [
    "my_array = np.array([3, 33.3, 3.1])"
   ]
  },
  {
   "cell_type": "code",
   "execution_count": 3,
   "metadata": {},
   "outputs": [
    {
     "data": {
      "text/plain": [
       "array([ 3. , 33.3,  3.1])"
      ]
     },
     "execution_count": 3,
     "metadata": {},
     "output_type": "execute_result"
    }
   ],
   "source": [
    "my_array"
   ]
  },
  {
   "cell_type": "code",
   "execution_count": 4,
   "metadata": {},
   "outputs": [],
   "source": [
    "my_string_array = np.array(['Hola','Enrique','how','are','you'])"
   ]
  },
  {
   "cell_type": "code",
   "execution_count": 5,
   "metadata": {},
   "outputs": [
    {
     "name": "stdout",
     "output_type": "stream",
     "text": [
      "<class 'numpy.ndarray'>\n"
     ]
    }
   ],
   "source": [
    "print(type(my_array))"
   ]
  },
  {
   "cell_type": "code",
   "execution_count": 6,
   "metadata": {},
   "outputs": [
    {
     "name": "stdout",
     "output_type": "stream",
     "text": [
      "<class 'numpy.ndarray'>\n"
     ]
    }
   ],
   "source": [
    "print(type(my_string_array))"
   ]
  },
  {
   "cell_type": "code",
   "execution_count": 7,
   "metadata": {},
   "outputs": [
    {
     "data": {
      "text/plain": [
       "(5,)"
      ]
     },
     "execution_count": 7,
     "metadata": {},
     "output_type": "execute_result"
    }
   ],
   "source": [
    "my_string_array.shape"
   ]
  },
  {
   "cell_type": "markdown",
   "metadata": {},
   "source": [
    "You can access the elements of an array just like you do it on a list"
   ]
  },
  {
   "cell_type": "code",
   "execution_count": 15,
   "metadata": {},
   "outputs": [
    {
     "data": {
      "text/plain": [
       "'Hola'"
      ]
     },
     "execution_count": 15,
     "metadata": {},
     "output_type": "execute_result"
    }
   ],
   "source": [
    "my_string_array[0]"
   ]
  },
  {
   "cell_type": "code",
   "execution_count": 18,
   "metadata": {},
   "outputs": [
    {
     "data": {
      "text/plain": [
       "5"
      ]
     },
     "execution_count": 18,
     "metadata": {},
     "output_type": "execute_result"
    }
   ],
   "source": [
    "len(my_string_array)"
   ]
  },
  {
   "cell_type": "markdown",
   "metadata": {},
   "source": [
    "#How to create a two dimentional array"
   ]
  },
  {
   "cell_type": "code",
   "execution_count": 24,
   "metadata": {},
   "outputs": [],
   "source": [
    "my_2d_array = np.array([[1,2],[3,4]])"
   ]
  },
  {
   "cell_type": "code",
   "execution_count": 26,
   "metadata": {},
   "outputs": [
    {
     "data": {
      "text/plain": [
       "(2, 2)"
      ]
     },
     "execution_count": 26,
     "metadata": {},
     "output_type": "execute_result"
    }
   ],
   "source": []
  },
  {
   "cell_type": "markdown",
   "metadata": {},
   "source": [
    "# Lets create some randoms"
   ]
  },
  {
   "cell_type": "code",
   "execution_count": 8,
   "metadata": {},
   "outputs": [],
   "source": [
    "my_rands = np.random.randn(3,5)"
   ]
  },
  {
   "cell_type": "code",
   "execution_count": 9,
   "metadata": {},
   "outputs": [
    {
     "data": {
      "text/plain": [
       "array([[-0.16282997, -0.43329944,  1.07319613, -0.28771894,  1.61121923],\n",
       "       [-0.41148813, -0.82050608,  0.64398462, -0.95667724,  0.65685763],\n",
       "       [-0.81954434,  0.41961436, -0.56393149, -1.01597461, -1.76843188]])"
      ]
     },
     "execution_count": 9,
     "metadata": {},
     "output_type": "execute_result"
    }
   ],
   "source": [
    "my_rands"
   ]
  },
  {
   "cell_type": "code",
   "execution_count": 10,
   "metadata": {},
   "outputs": [
    {
     "data": {
      "text/plain": [
       "array([ 1.80056701, -0.8878292 , -3.74826796])"
      ]
     },
     "execution_count": 10,
     "metadata": {},
     "output_type": "execute_result"
    }
   ],
   "source": [
    "#Summing the rows\n",
    "my_rands.sum(axis=1)"
   ]
  },
  {
   "cell_type": "code",
   "execution_count": 40,
   "metadata": {},
   "outputs": [
    {
     "data": {
      "text/plain": [
       "1.0998711799999998"
      ]
     },
     "execution_count": 40,
     "metadata": {},
     "output_type": "execute_result"
    }
   ],
   "source": [
    "-0.13286365 + 0.07888391 + 0.13066627 -0.2493364 + 1.27252105"
   ]
  },
  {
   "cell_type": "code",
   "execution_count": 49,
   "metadata": {},
   "outputs": [
    {
     "data": {
      "text/plain": [
       "array([ 0.01019475, -0.06218364])"
      ]
     },
     "execution_count": 49,
     "metadata": {},
     "output_type": "execute_result"
    }
   ],
   "source": [
    "# Summing columns of a particular ndarray\n",
    "my_rands[:,0:2].sum(axis=0)"
   ]
  },
  {
   "cell_type": "code",
   "execution_count": 52,
   "metadata": {},
   "outputs": [],
   "source": [
    "my_rands.sort()"
   ]
  },
  {
   "cell_type": "code",
   "execution_count": 53,
   "metadata": {},
   "outputs": [
    {
     "data": {
      "text/plain": [
       "array([[-0.2493364 , -0.13286365,  0.07888391,  0.13066627,  1.27252105],\n",
       "       [-1.01454059, -0.44982485, -0.01788819,  0.14410415,  1.04295126],\n",
       "       [-1.07745716, -0.89989285, -0.61330955,  0.87347304,  1.56602604]])"
      ]
     },
     "execution_count": 53,
     "metadata": {},
     "output_type": "execute_result"
    }
   ],
   "source": [
    "my_rands"
   ]
  },
  {
   "cell_type": "markdown",
   "metadata": {},
   "source": [
    "### How about sorting strings"
   ]
  },
  {
   "cell_type": "code",
   "execution_count": 54,
   "metadata": {},
   "outputs": [
    {
     "data": {
      "text/plain": [
       "array(['Hola', 'Enrique', 'how', 'are', 'you'], dtype='<U7')"
      ]
     },
     "execution_count": 54,
     "metadata": {},
     "output_type": "execute_result"
    }
   ],
   "source": [
    "my_string_array"
   ]
  },
  {
   "cell_type": "code",
   "execution_count": 55,
   "metadata": {},
   "outputs": [],
   "source": [
    "my_string_array.sort()"
   ]
  },
  {
   "cell_type": "code",
   "execution_count": 56,
   "metadata": {},
   "outputs": [
    {
     "data": {
      "text/plain": [
       "array(['Enrique', 'Hola', 'are', 'how', 'you'], dtype='<U7')"
      ]
     },
     "execution_count": 56,
     "metadata": {},
     "output_type": "execute_result"
    }
   ],
   "source": [
    "my_string_array"
   ]
  },
  {
   "cell_type": "markdown",
   "metadata": {},
   "source": [
    "## Numpy: ndarray boolean indexing"
   ]
  },
  {
   "cell_type": "code",
   "execution_count": 14,
   "metadata": {},
   "outputs": [
    {
     "name": "stdout",
     "output_type": "stream",
     "text": [
      "Help on built-in function randint:\n",
      "\n",
      "randint(...) method of numpy.random.mtrand.RandomState instance\n",
      "    randint(low, high=None, size=None, dtype='l')\n",
      "    \n",
      "    Return random integers from `low` (inclusive) to `high` (exclusive).\n",
      "    \n",
      "    Return random integers from the \"discrete uniform\" distribution of\n",
      "    the specified dtype in the \"half-open\" interval [`low`, `high`). If\n",
      "    `high` is None (the default), then results are from [0, `low`).\n",
      "    \n",
      "    .. note::\n",
      "        New code should use the ``integers`` method of a ``default_rng()``\n",
      "        instance instead; see `random-quick-start`.\n",
      "    \n",
      "    Parameters\n",
      "    ----------\n",
      "    low : int or array-like of ints\n",
      "        Lowest (signed) integers to be drawn from the distribution (unless\n",
      "        ``high=None``, in which case this parameter is one above the\n",
      "        *highest* such integer).\n",
      "    high : int or array-like of ints, optional\n",
      "        If provided, one above the largest (signed) integer to be drawn\n",
      "        from the distribution (see above for behavior if ``high=None``).\n",
      "        If array-like, must contain integer values\n",
      "    size : int or tuple of ints, optional\n",
      "        Output shape.  If the given shape is, e.g., ``(m, n, k)``, then\n",
      "        ``m * n * k`` samples are drawn.  Default is None, in which case a\n",
      "        single value is returned.\n",
      "    dtype : dtype, optional\n",
      "        Desired dtype of the result. All dtypes are determined by their\n",
      "        name, i.e., 'int64', 'int', etc, so byteorder is not available\n",
      "        and a specific precision may have different C types depending\n",
      "        on the platform. The default value is `np.int_`.\n",
      "    \n",
      "        .. versionadded:: 1.11.0\n",
      "    \n",
      "    Returns\n",
      "    -------\n",
      "    out : int or ndarray of ints\n",
      "        `size`-shaped array of random integers from the appropriate\n",
      "        distribution, or a single such random int if `size` not provided.\n",
      "    \n",
      "    See Also\n",
      "    --------\n",
      "    random_integers : similar to `randint`, only for the closed\n",
      "        interval [`low`, `high`], and 1 is the lowest value if `high` is\n",
      "        omitted.\n",
      "    Generator.integers: which should be used for new code.\n",
      "    \n",
      "    Examples\n",
      "    --------\n",
      "    >>> np.random.randint(2, size=10)\n",
      "    array([1, 0, 0, 0, 1, 1, 0, 0, 1, 0]) # random\n",
      "    >>> np.random.randint(1, size=10)\n",
      "    array([0, 0, 0, 0, 0, 0, 0, 0, 0, 0])\n",
      "    \n",
      "    Generate a 2 x 4 array of ints between 0 and 4, inclusive:\n",
      "    \n",
      "    >>> np.random.randint(5, size=(2, 4))\n",
      "    array([[4, 0, 2, 1], # random\n",
      "           [3, 2, 2, 0]])\n",
      "    \n",
      "    Generate a 1 x 3 array with 3 different upper bounds\n",
      "    \n",
      "    >>> np.random.randint(1, [3, 5, 10])\n",
      "    array([2, 2, 9]) # random\n",
      "    \n",
      "    Generate a 1 by 3 array with 3 different lower bounds\n",
      "    \n",
      "    >>> np.random.randint([1, 5, 7], 10)\n",
      "    array([9, 8, 7]) # random\n",
      "    \n",
      "    Generate a 2 by 4 array using broadcasting with dtype of uint8\n",
      "    \n",
      "    >>> np.random.randint([1, 3, 5, 7], [[10], [20]], dtype=np.uint8)\n",
      "    array([[ 8,  6,  9,  7], # random\n",
      "           [ 1, 16,  9, 12]], dtype=uint8)\n",
      "\n"
     ]
    }
   ],
   "source": [
    "help(np.random.randint)"
   ]
  },
  {
   "cell_type": "code",
   "execution_count": 19,
   "metadata": {},
   "outputs": [],
   "source": [
    "my_new_array = np.random.randint(low=-10,high=10,size=100)"
   ]
  },
  {
   "cell_type": "code",
   "execution_count": 22,
   "metadata": {},
   "outputs": [
    {
     "data": {
      "text/plain": [
       "array([  1,  -6,  -3,   5,   5,  -5,  -7,   3,   8,  -4, -10,   2,  -6,\n",
       "         0,  -5,   7,   9,   9,   0,   5, -10, -10,   0,   0,  -3,  -8,\n",
       "         5,  -6,   8,   7,  -2,   8,  -9,   8,   5,  -2,  -4,   2, -10,\n",
       "         3,  -7,   6,  -9,  -6,  -8,  -6, -10,   4,  -8,   9,   4,   4,\n",
       "        -4, -10,   7,   5,  -6,   1,   2,   1,  -5,  -7,  -5,   4,   2,\n",
       "        -4,   6,  -5,   0,   7,  -9,   4,   4,  -3,   3,   6,  -9,  -9,\n",
       "       -10,  -3,   5,   0,  -6,  -2,   6, -10,  -5,   3,  -5,  -1,   5,\n",
       "         4,  -4,   2,   7,  -4,   3,  -5,  -8,  -5])"
      ]
     },
     "execution_count": 22,
     "metadata": {},
     "output_type": "execute_result"
    }
   ],
   "source": [
    "my_new_array"
   ]
  },
  {
   "cell_type": "code",
   "execution_count": 46,
   "metadata": {},
   "outputs": [],
   "source": [
    "sorted_my_new = my_new_array[(my_new_array>=0) & (my_new_array<=5)]"
   ]
  },
  {
   "cell_type": "code",
   "execution_count": 49,
   "metadata": {},
   "outputs": [],
   "source": [
    "sorted_my_new.sort()"
   ]
  },
  {
   "cell_type": "markdown",
   "metadata": {},
   "source": [
    "### Operations"
   ]
  },
  {
   "cell_type": "code",
   "execution_count": 50,
   "metadata": {},
   "outputs": [
    {
     "data": {
      "text/plain": [
       "-94"
      ]
     },
     "execution_count": 50,
     "metadata": {},
     "output_type": "execute_result"
    }
   ],
   "source": [
    "#sum \n",
    "np.sum(my_new_array)"
   ]
  },
  {
   "cell_type": "code",
   "execution_count": 51,
   "metadata": {},
   "outputs": [
    {
     "data": {
      "text/plain": [
       "array([  2, -12,  -6,  10,  10, -10, -14,   6,  16,  -8, -20,   4, -12,\n",
       "         0, -10,  14,  18,  18,   0,  10, -20, -20,   0,   0,  -6, -16,\n",
       "        10, -12,  16,  14,  -4,  16, -18,  16,  10,  -4,  -8,   4, -20,\n",
       "         6, -14,  12, -18, -12, -16, -12, -20,   8, -16,  18,   8,   8,\n",
       "        -8, -20,  14,  10, -12,   2,   4,   2, -10, -14, -10,   8,   4,\n",
       "        -8,  12, -10,   0,  14, -18,   8,   8,  -6,   6,  12, -18, -18,\n",
       "       -20,  -6,  10,   0, -12,  -4,  12, -20, -10,   6, -10,  -2,  10,\n",
       "         8,  -8,   4,  14,  -8,   6, -10, -16, -10])"
      ]
     },
     "execution_count": 51,
     "metadata": {},
     "output_type": "execute_result"
    }
   ],
   "source": [
    "#multiply\n",
    "np.multiply(my_new_array, 2)"
   ]
  },
  {
   "cell_type": "code",
   "execution_count": 53,
   "metadata": {},
   "outputs": [
    {
     "data": {
      "text/plain": [
       "array([1.        , 2.23606798, 2.23606798, 1.73205081, 2.82842712,\n",
       "       1.41421356, 0.        , 2.64575131, 3.        , 3.        ,\n",
       "       0.        , 2.23606798, 0.        , 0.        , 2.23606798,\n",
       "       2.82842712, 2.64575131, 2.82842712, 2.82842712, 2.23606798,\n",
       "       1.41421356, 1.73205081, 2.44948974, 2.        , 3.        ,\n",
       "       2.        , 2.        , 2.64575131, 2.23606798, 1.        ,\n",
       "       1.41421356, 1.        , 2.        , 1.41421356, 2.44948974,\n",
       "       0.        , 2.64575131, 2.        , 2.        , 1.73205081,\n",
       "       2.44948974, 2.23606798, 0.        , 2.44948974, 1.73205081,\n",
       "       2.23606798, 2.        , 1.41421356, 2.64575131, 1.73205081])"
      ]
     },
     "execution_count": 53,
     "metadata": {},
     "output_type": "execute_result"
    }
   ],
   "source": [
    "#Sqrt\n",
    "np.sqrt(my_new_array[my_new_array>=0])"
   ]
  },
  {
   "cell_type": "code",
   "execution_count": 54,
   "metadata": {},
   "outputs": [
    {
     "data": {
      "text/plain": [
       "array([2.71828183e+00, 2.47875218e-03, 4.97870684e-02, 1.48413159e+02,\n",
       "       1.48413159e+02, 6.73794700e-03, 9.11881966e-04, 2.00855369e+01,\n",
       "       2.98095799e+03, 1.83156389e-02, 4.53999298e-05, 7.38905610e+00,\n",
       "       2.47875218e-03, 1.00000000e+00, 6.73794700e-03, 1.09663316e+03,\n",
       "       8.10308393e+03, 8.10308393e+03, 1.00000000e+00, 1.48413159e+02,\n",
       "       4.53999298e-05, 4.53999298e-05, 1.00000000e+00, 1.00000000e+00,\n",
       "       4.97870684e-02, 3.35462628e-04, 1.48413159e+02, 2.47875218e-03,\n",
       "       2.98095799e+03, 1.09663316e+03, 1.35335283e-01, 2.98095799e+03,\n",
       "       1.23409804e-04, 2.98095799e+03, 1.48413159e+02, 1.35335283e-01,\n",
       "       1.83156389e-02, 7.38905610e+00, 4.53999298e-05, 2.00855369e+01,\n",
       "       9.11881966e-04, 4.03428793e+02, 1.23409804e-04, 2.47875218e-03,\n",
       "       3.35462628e-04, 2.47875218e-03, 4.53999298e-05, 5.45981500e+01,\n",
       "       3.35462628e-04, 8.10308393e+03, 5.45981500e+01, 5.45981500e+01,\n",
       "       1.83156389e-02, 4.53999298e-05, 1.09663316e+03, 1.48413159e+02,\n",
       "       2.47875218e-03, 2.71828183e+00, 7.38905610e+00, 2.71828183e+00,\n",
       "       6.73794700e-03, 9.11881966e-04, 6.73794700e-03, 5.45981500e+01,\n",
       "       7.38905610e+00, 1.83156389e-02, 4.03428793e+02, 6.73794700e-03,\n",
       "       1.00000000e+00, 1.09663316e+03, 1.23409804e-04, 5.45981500e+01,\n",
       "       5.45981500e+01, 4.97870684e-02, 2.00855369e+01, 4.03428793e+02,\n",
       "       1.23409804e-04, 1.23409804e-04, 4.53999298e-05, 4.97870684e-02,\n",
       "       1.48413159e+02, 1.00000000e+00, 2.47875218e-03, 1.35335283e-01,\n",
       "       4.03428793e+02, 4.53999298e-05, 6.73794700e-03, 2.00855369e+01,\n",
       "       6.73794700e-03, 3.67879441e-01, 1.48413159e+02, 5.45981500e+01,\n",
       "       1.83156389e-02, 7.38905610e+00, 1.09663316e+03, 1.83156389e-02,\n",
       "       2.00855369e+01, 6.73794700e-03, 3.35462628e-04, 6.73794700e-03])"
      ]
     },
     "execution_count": 54,
     "metadata": {},
     "output_type": "execute_result"
    }
   ],
   "source": [
    "#exponent\n",
    "np.exp(my_new_array)"
   ]
  },
  {
   "cell_type": "markdown",
   "metadata": {},
   "source": [
    "## Statistical methods, sorting and setting"
   ]
  },
  {
   "cell_type": "code",
   "execution_count": 56,
   "metadata": {},
   "outputs": [],
   "source": [
    "#Lets create a 2x4 matrix\n",
    "arr = 10*np.random.randn(2,4)"
   ]
  },
  {
   "cell_type": "code",
   "execution_count": 61,
   "metadata": {},
   "outputs": [
    {
     "data": {
      "text/plain": [
       "array([[  3.29539392,  15.09582133,  -2.57331292,  -6.69233236],\n",
       "       [ 27.79210156, -14.91185353,  15.02097765,  -7.20191806]])"
      ]
     },
     "execution_count": 61,
     "metadata": {},
     "output_type": "execute_result"
    }
   ],
   "source": [
    "arr"
   ]
  },
  {
   "cell_type": "code",
   "execution_count": 71,
   "metadata": {},
   "outputs": [
    {
     "data": {
      "text/plain": [
       "array([6.2612542 , 0.05456206])"
      ]
     },
     "execution_count": 71,
     "metadata": {},
     "output_type": "execute_result"
    }
   ],
   "source": [
    "#Get the mean of each row slicing the array\n",
    "arr[:,1:3].mean(axis=1)"
   ]
  },
  {
   "cell_type": "code",
   "execution_count": 72,
   "metadata": {},
   "outputs": [
    {
     "data": {
      "text/plain": [
       "array([15.54374774,  0.0919839 ,  6.22383237, -6.94712521])"
      ]
     },
     "execution_count": 72,
     "metadata": {},
     "output_type": "execute_result"
    }
   ],
   "source": [
    "#Lets get the mean of each column\n",
    "arr.mean(axis=0)"
   ]
  },
  {
   "cell_type": "code",
   "execution_count": null,
   "metadata": {},
   "outputs": [],
   "source": []
  }
 ],
 "metadata": {
  "kernelspec": {
   "display_name": "Python 3",
   "language": "python",
   "name": "python3"
  },
  "language_info": {
   "codemirror_mode": {
    "name": "ipython",
    "version": 3
   },
   "file_extension": ".py",
   "mimetype": "text/x-python",
   "name": "python",
   "nbconvert_exporter": "python",
   "pygments_lexer": "ipython3",
   "version": "3.7.6"
  }
 },
 "nbformat": 4,
 "nbformat_minor": 2
}
